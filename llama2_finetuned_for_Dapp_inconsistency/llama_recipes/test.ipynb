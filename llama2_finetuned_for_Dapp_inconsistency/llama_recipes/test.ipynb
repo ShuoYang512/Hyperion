{
 "cells": [
  {
   "cell_type": "code",
   "execution_count": 2,
   "metadata": {},
   "outputs": [
    {
     "name": "stderr",
     "output_type": "stream",
     "text": [
      "/GPUFS/nsccgz_ywang_zfd/.conda/envs/llama_zqy/lib/python3.10/site-packages/torch/cuda/__init__.py:107: UserWarning: CUDA initialization: CUDA driver initialization failed, you might not have a CUDA gpu. (Triggered internally at ../c10/cuda/CUDAFunctions.cpp:109.)\n",
      "  return torch._C._cuda_getDeviceCount() > 0\n"
     ]
    },
    {
     "data": {
      "text/plain": [
       "8500"
      ]
     },
     "execution_count": 2,
     "metadata": {},
     "output_type": "execute_result"
    }
   ],
   "source": [
    "\n",
    "\n",
    "import torch\n",
    " \n",
    "torch.cuda.is_available()   # cuda是否可用\n",
    "torch.version.cuda          # cuda版本\n",
    " \n",
    "torch.backends.cudnn.is_available()  # cudnn是否可用\n",
    "torch.backends.cudnn.version()       # cudnn版本"
   ]
  }
 ],
 "metadata": {
  "kernelspec": {
   "display_name": "llama_zqy",
   "language": "python",
   "name": "python3"
  },
  "language_info": {
   "codemirror_mode": {
    "name": "ipython",
    "version": 3
   },
   "file_extension": ".py",
   "mimetype": "text/x-python",
   "name": "python",
   "nbconvert_exporter": "python",
   "pygments_lexer": "ipython3",
   "version": "3.10.0"
  },
  "orig_nbformat": 4
 },
 "nbformat": 4,
 "nbformat_minor": 2
}
